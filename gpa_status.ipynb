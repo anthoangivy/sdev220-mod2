{
 "cells": [
  {
   "cell_type": "markdown",
   "metadata": {},
   "source": [
    "Name: Anthony Hoang\n",
    "#\n",
    "File name: gpa_status.ipynb\n",
    "#\n",
    "Description: This app takes in a student's name and GPA. It will then notify the user if the student meets the requirements for either the Dean's List or the Honor Roll. Type \"ZZZ\" in the first box to quit the app."
   ]
  },
  {
   "cell_type": "code",
   "execution_count": 1,
   "metadata": {},
   "outputs": [
    {
     "name": "stdout",
     "output_type": "stream",
     "text": [
      "The student has made the Dean's List.\n",
      "The student has made the Honor Roll.\n",
      "The student has made the Dean's List.\n",
      "The student does not qualify for any awards.\n",
      "The student does not qualify for any awards.\n"
     ]
    }
   ],
   "source": [
    "while True:\n",
    "    last_name = input(\"Enter student's last name (or 'ZZZ' to exit): \")\n",
    "    if last_name == \"ZZZ\":\n",
    "        break\n",
    "\n",
    "    first_name = input(\"Enter student's first name: \")\n",
    "    gpa = float(input(\"Enter student's GPA: \"))\n",
    "\n",
    "    if gpa >= 3.5:\n",
    "        print(\"The student has made the Dean's List.\")\n",
    "    elif gpa >= 3.25:\n",
    "        print(\"The student has made the Honor Roll.\")\n",
    "    else:\n",
    "        print(\"The student does not qualify for any awards.\")"
   ]
  }
 ],
 "metadata": {
  "kernelspec": {
   "display_name": "Python 3",
   "language": "python",
   "name": "python3"
  },
  "language_info": {
   "codemirror_mode": {
    "name": "ipython",
    "version": 3
   },
   "file_extension": ".py",
   "mimetype": "text/x-python",
   "name": "python",
   "nbconvert_exporter": "python",
   "pygments_lexer": "ipython3",
   "version": "3.11.4"
  }
 },
 "nbformat": 4,
 "nbformat_minor": 2
}
